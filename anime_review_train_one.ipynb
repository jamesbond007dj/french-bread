{
 "cells": [
  {
   "cell_type": "code",
   "execution_count": 24,
   "metadata": {},
   "outputs": [],
   "source": [
    "import pandas as pd\n",
    "import numpy as np\n",
    "import tensorflow as tf\n",
    "from tensorflow import keras\n",
    "import tensorflow.keras.preprocessing.text as tfkpt\n",
    "from tensorflow.keras.preprocessing.text import Tokenizer\n",
    "import csv"
   ]
  },
  {
   "cell_type": "code",
   "execution_count": 25,
   "metadata": {},
   "outputs": [],
   "source": [
    "anime_review_train = pd.read_csv('./assets/dataanime.csv')"
   ]
  },
  {
   "cell_type": "markdown",
   "metadata": {},
   "source": [
    "#### Above read dataanime for to train reviews"
   ]
  },
  {
   "cell_type": "code",
   "execution_count": 26,
   "metadata": {},
   "outputs": [
    {
     "name": "stdout",
     "output_type": "stream",
     "text": [
      "Data Shape:                                                   Title   Type Episodes  \\\n",
      "0                      Fullmetal Alchemist: Brotherhood     TV       64   \n",
      "1                                        Kimi no Na wa.  Movie        1   \n",
      "2                                              Gintama°     TV       51   \n",
      "3                                         Steins;Gate 0     TV       23   \n",
      "4                                           Steins;Gate     TV       24   \n",
      "...                                                 ...    ...      ...   \n",
      "1558                                    Kuroshitsuji II     TV       12   \n",
      "1559                              Minami-ke Natsuyasumi    OVA        1   \n",
      "1560  Naruto: Shippuuden Movie 3 - Hi no Ishi wo Tsu...  Movie        1   \n",
      "1561        Persona 4 the Animation: The Factor of Hope  Movie        1   \n",
      "1562                                       Re:␣Hamatora     TV       12   \n",
      "\n",
      "                Status Start airing End airing Starting season  \\\n",
      "0      Finished Airing     2009-4-5   2010-7-4          Spring   \n",
      "1      Finished Airing    2016-8-26          -               -   \n",
      "2      Finished Airing     2015-4-8  2016-3-30          Spring   \n",
      "3     Currently Airing    2018-4-12          -          Spring   \n",
      "4      Finished Airing     2011-4-6  2011-9-14          Spring   \n",
      "...                ...          ...        ...             ...   \n",
      "1558   Finished Airing     2010-7-2  2010-9-17          Summer   \n",
      "1559   Finished Airing     2013-8-6          -               -   \n",
      "1560   Finished Airing     2009-8-1          -               -   \n",
      "1561   Finished Airing     2012-6-9          -               -   \n",
      "1562   Finished Airing     2014-7-8  2014-9-23          Summer   \n",
      "\n",
      "                 Broadcast time  \\\n",
      "0        Sundays at 17:00 (JST)   \n",
      "1                             -   \n",
      "2     Wednesdays at 18:00 (JST)   \n",
      "3      Thursdays at 01:35 (JST)   \n",
      "4     Wednesdays at 02:05 (JST)   \n",
      "...                         ...   \n",
      "1558                          -   \n",
      "1559                          -   \n",
      "1560                          -   \n",
      "1561                          -   \n",
      "1562    Tuesdays at 02:05 (JST)   \n",
      "\n",
      "                                              Producers  \\\n",
      "0     Aniplex,Square Enix,Mainichi Broadcasting Syst...   \n",
      "1     Kadokawa Shoten,Toho,Sound Team Don Juan,Lawso...   \n",
      "2                               TV Tokyo,Aniplex,Dentsu   \n",
      "3                                             Nitroplus   \n",
      "4     Frontier Works,Media Factory,Movic,AT-X,Kadoka...   \n",
      "...                                                 ...   \n",
      "1558   Aniplex,Square Enix,Mainichi Broadcasting System   \n",
      "1559                                  Starchild Records   \n",
      "1560                                               Toho   \n",
      "1561                                              Index   \n",
      "1562  TV Tokyo,Sotsu,AT-X,DAX Production,NAZ,DIVE II...   \n",
      "\n",
      "                          Licensors                Studios       Sources  \\\n",
      "0     Funimation,Aniplex of America                  Bones         Manga   \n",
      "1              Funimation,NYAV Post       CoMix Wave Films      Original   \n",
      "2            Funimation,Crunchyroll  Bandai Namco Pictures         Manga   \n",
      "3                        Funimation              White Fox  Visual novel   \n",
      "4                        Funimation              White Fox  Visual novel   \n",
      "...                             ...                    ...           ...   \n",
      "1558                     Funimation           A-1 Pictures         Manga   \n",
      "1559                              -                  feel.         Manga   \n",
      "1560                      Viz Media         Studio Pierrot         Manga   \n",
      "1561                              -           AIC A.S.T.A.             -   \n",
      "1562               Sentai Filmworks                 Lerche      Original   \n",
      "\n",
      "                                                 Genres         Duration  \\\n",
      "0     Action,Military,Adventure,Comedy,Drama,Magic,F...  24 min. per ep.   \n",
      "1                     Supernatural,Drama,Romance,School    1 hr. 46 min.   \n",
      "2     Action,Comedy,Historical,Parody,Samurai,Sci-Fi...  24 min. per ep.   \n",
      "3                                       Sci-Fi,Thriller  23 min. per ep.   \n",
      "4                                       Sci-Fi,Thriller  24 min. per ep.   \n",
      "...                                                 ...              ...   \n",
      "1558  Action,Comedy,Demons,Supernatural,Fantasy,Shounen  24 min. per ep.   \n",
      "1559                               Comedy,Slice of Life          28 min.   \n",
      "1560     Action,Comedy,Martial Arts,Shounen,Super Power    1 hr. 35 min.   \n",
      "1561  Adventure,Mystery,Super Power,Supernatural,School    1 hr. 30 min.   \n",
      "1562                   Mystery,Comedy,Super Power,Drama  24 min. per ep.   \n",
      "\n",
      "     Rating  Score  Scored by  Members  Favorites  \\\n",
      "0         R   9.25     719706  1176368     105387   \n",
      "1     PG-13   9.19     454969   705186      33936   \n",
      "2         R   9.16      70279   194359       5597   \n",
      "3     PG-13   9.16      12609   186331       1117   \n",
      "4     PG-13   9.14     552791   990419      90365   \n",
      "...     ...    ...        ...      ...        ...   \n",
      "1558      R   7.48     171506   296985       3576   \n",
      "1559  PG-13   7.48       6062    12111          4   \n",
      "1560  PG-13   7.48      61505   104288        129   \n",
      "1561  PG-13   7.48       3054    12868         12   \n",
      "1562      R   7.48      46334    99299        330   \n",
      "\n",
      "                                            Description  \n",
      "0     \"In order for something to be obtained, someth...  \n",
      "1     Mitsuha Miyamizu, a high school girl, yearns t...  \n",
      "2     Gintoki, Shinpachi, and Kagura return as the f...  \n",
      "3     The dark untold story of Steins;Gate that lead...  \n",
      "4     The self-proclaimed mad scientist Rintarou Oka...  \n",
      "...                                                 ...  \n",
      "1558  The stage of Kuroshitsuji II opens on the life...  \n",
      "1559  Second Minami-ke OVA bundled with the 11th vol...  \n",
      "1560  Ninjas with bloodline limits begin disappearin...  \n",
      "1561  Recap of the entire 25-episode television anim...  \n",
      "1562  It has been three months since the incident at...  \n",
      "\n",
      "[1563 rows x 20 columns]\n"
     ]
    }
   ],
   "source": [
    "print(f\"Data Shape: {anime_review_train}\")"
   ]
  },
  {
   "cell_type": "code",
   "execution_count": 27,
   "metadata": {},
   "outputs": [
    {
     "name": "stdout",
     "output_type": "stream",
     "text": [
      "Index(['Title', 'Type', 'Episodes', 'Status', 'Start airing', 'End airing',\n",
      "       'Starting season', 'Broadcast time', 'Producers', 'Licensors',\n",
      "       'Studios', 'Sources', 'Genres', 'Duration', 'Rating', 'Score',\n",
      "       'Scored by', 'Members', 'Favorites', 'Description'],\n",
      "      dtype='object')\n"
     ]
    }
   ],
   "source": [
    "print(anime_review_train.columns)"
   ]
  },
  {
   "cell_type": "code",
   "execution_count": 28,
   "metadata": {},
   "outputs": [],
   "source": [
    "ranked_anime_review = anime_review_train[['Description', 'Score']].sort_values(by='Score')"
   ]
  },
  {
   "cell_type": "code",
   "execution_count": 29,
   "metadata": {},
   "outputs": [
    {
     "data": {
      "text/html": [
       "<div>\n",
       "<style scoped>\n",
       "    .dataframe tbody tr th:only-of-type {\n",
       "        vertical-align: middle;\n",
       "    }\n",
       "\n",
       "    .dataframe tbody tr th {\n",
       "        vertical-align: top;\n",
       "    }\n",
       "\n",
       "    .dataframe thead th {\n",
       "        text-align: right;\n",
       "    }\n",
       "</style>\n",
       "<table border=\"1\" class=\"dataframe\">\n",
       "  <thead>\n",
       "    <tr style=\"text-align: right;\">\n",
       "      <th></th>\n",
       "      <th>Description</th>\n",
       "      <th>Score</th>\n",
       "    </tr>\n",
       "  </thead>\n",
       "  <tbody>\n",
       "    <tr>\n",
       "      <th>1562</th>\n",
       "      <td>It has been three months since the incident at...</td>\n",
       "      <td>7.48</td>\n",
       "    </tr>\n",
       "    <tr>\n",
       "      <th>1521</th>\n",
       "      <td>Jiang Hao Yi, a normal, high school student wh...</td>\n",
       "      <td>7.48</td>\n",
       "    </tr>\n",
       "    <tr>\n",
       "      <th>1548</th>\n",
       "      <td>In his past life, although too weak to protect...</td>\n",
       "      <td>7.48</td>\n",
       "    </tr>\n",
       "    <tr>\n",
       "      <th>1550</th>\n",
       "      <td>Beelzebub specials included in the BD/DVD rele...</td>\n",
       "      <td>7.48</td>\n",
       "    </tr>\n",
       "    <tr>\n",
       "      <th>1551</th>\n",
       "      <td>A new island resort has been built in Tokyo ba...</td>\n",
       "      <td>7.48</td>\n",
       "    </tr>\n",
       "    <tr>\n",
       "      <th>...</th>\n",
       "      <td>...</td>\n",
       "      <td>...</td>\n",
       "    </tr>\n",
       "    <tr>\n",
       "      <th>4</th>\n",
       "      <td>The self-proclaimed mad scientist Rintarou Oka...</td>\n",
       "      <td>9.14</td>\n",
       "    </tr>\n",
       "    <tr>\n",
       "      <th>3</th>\n",
       "      <td>The dark untold story of Steins;Gate that lead...</td>\n",
       "      <td>9.16</td>\n",
       "    </tr>\n",
       "    <tr>\n",
       "      <th>2</th>\n",
       "      <td>Gintoki, Shinpachi, and Kagura return as the f...</td>\n",
       "      <td>9.16</td>\n",
       "    </tr>\n",
       "    <tr>\n",
       "      <th>1</th>\n",
       "      <td>Mitsuha Miyamizu, a high school girl, yearns t...</td>\n",
       "      <td>9.19</td>\n",
       "    </tr>\n",
       "    <tr>\n",
       "      <th>0</th>\n",
       "      <td>\"In order for something to be obtained, someth...</td>\n",
       "      <td>9.25</td>\n",
       "    </tr>\n",
       "  </tbody>\n",
       "</table>\n",
       "<p>1563 rows × 2 columns</p>\n",
       "</div>"
      ],
      "text/plain": [
       "                                            Description  Score\n",
       "1562  It has been three months since the incident at...   7.48\n",
       "1521  Jiang Hao Yi, a normal, high school student wh...   7.48\n",
       "1548  In his past life, although too weak to protect...   7.48\n",
       "1550  Beelzebub specials included in the BD/DVD rele...   7.48\n",
       "1551  A new island resort has been built in Tokyo ba...   7.48\n",
       "...                                                 ...    ...\n",
       "4     The self-proclaimed mad scientist Rintarou Oka...   9.14\n",
       "3     The dark untold story of Steins;Gate that lead...   9.16\n",
       "2     Gintoki, Shinpachi, and Kagura return as the f...   9.16\n",
       "1     Mitsuha Miyamizu, a high school girl, yearns t...   9.19\n",
       "0     \"In order for something to be obtained, someth...   9.25\n",
       "\n",
       "[1563 rows x 2 columns]"
      ]
     },
     "execution_count": 29,
     "metadata": {},
     "output_type": "execute_result"
    }
   ],
   "source": [
    "ranked_anime_review"
   ]
  },
  {
   "cell_type": "code",
   "execution_count": 30,
   "metadata": {},
   "outputs": [
    {
     "data": {
      "text/plain": [
       "7.82"
      ]
     },
     "execution_count": 30,
     "metadata": {},
     "output_type": "execute_result"
    }
   ],
   "source": [
    "ranked_anime_review['Score'].median()"
   ]
  },
  {
   "cell_type": "code",
   "execution_count": 31,
   "metadata": {},
   "outputs": [
    {
     "data": {
      "text/plain": [
       "0    7.55\n",
       "dtype: float64"
      ]
     },
     "execution_count": 31,
     "metadata": {},
     "output_type": "execute_result"
    }
   ],
   "source": [
    "ranked_anime_review['Score'].mode()"
   ]
  },
  {
   "cell_type": "code",
   "execution_count": 32,
   "metadata": {},
   "outputs": [
    {
     "data": {
      "text/plain": [
       "7.905143953934741"
      ]
     },
     "execution_count": 32,
     "metadata": {},
     "output_type": "execute_result"
    }
   ],
   "source": [
    "ranked_anime_review['Score'].mean()"
   ]
  },
  {
   "cell_type": "markdown",
   "metadata": {},
   "source": [
    "#### Mean and Median Score is very close to lowest score so we use regression "
   ]
  },
  {
   "cell_type": "code",
   "execution_count": 33,
   "metadata": {},
   "outputs": [],
   "source": [
    "regression_anime_review = ranked_anime_review['Score'].value_counts()"
   ]
  },
  {
   "cell_type": "code",
   "execution_count": 34,
   "metadata": {},
   "outputs": [
    {
     "data": {
      "text/html": [
       "<div>\n",
       "<style scoped>\n",
       "    .dataframe tbody tr th:only-of-type {\n",
       "        vertical-align: middle;\n",
       "    }\n",
       "\n",
       "    .dataframe tbody tr th {\n",
       "        vertical-align: top;\n",
       "    }\n",
       "\n",
       "    .dataframe thead th {\n",
       "        text-align: right;\n",
       "    }\n",
       "</style>\n",
       "<table border=\"1\" class=\"dataframe\">\n",
       "  <thead>\n",
       "    <tr style=\"text-align: right;\">\n",
       "      <th></th>\n",
       "      <th>Score</th>\n",
       "      <th>Description</th>\n",
       "    </tr>\n",
       "  </thead>\n",
       "  <tbody>\n",
       "    <tr>\n",
       "      <th>0</th>\n",
       "      <td>7.48</td>\n",
       "      <td>15</td>\n",
       "    </tr>\n",
       "    <tr>\n",
       "      <th>1</th>\n",
       "      <td>7.49</td>\n",
       "      <td>27</td>\n",
       "    </tr>\n",
       "    <tr>\n",
       "      <th>2</th>\n",
       "      <td>7.50</td>\n",
       "      <td>29</td>\n",
       "    </tr>\n",
       "    <tr>\n",
       "      <th>3</th>\n",
       "      <td>7.51</td>\n",
       "      <td>24</td>\n",
       "    </tr>\n",
       "    <tr>\n",
       "      <th>4</th>\n",
       "      <td>7.52</td>\n",
       "      <td>24</td>\n",
       "    </tr>\n",
       "    <tr>\n",
       "      <th>...</th>\n",
       "      <td>...</td>\n",
       "      <td>...</td>\n",
       "    </tr>\n",
       "    <tr>\n",
       "      <th>141</th>\n",
       "      <td>9.11</td>\n",
       "      <td>3</td>\n",
       "    </tr>\n",
       "    <tr>\n",
       "      <th>142</th>\n",
       "      <td>9.14</td>\n",
       "      <td>1</td>\n",
       "    </tr>\n",
       "    <tr>\n",
       "      <th>143</th>\n",
       "      <td>9.16</td>\n",
       "      <td>2</td>\n",
       "    </tr>\n",
       "    <tr>\n",
       "      <th>144</th>\n",
       "      <td>9.19</td>\n",
       "      <td>1</td>\n",
       "    </tr>\n",
       "    <tr>\n",
       "      <th>145</th>\n",
       "      <td>9.25</td>\n",
       "      <td>1</td>\n",
       "    </tr>\n",
       "  </tbody>\n",
       "</table>\n",
       "<p>146 rows × 2 columns</p>\n",
       "</div>"
      ],
      "text/plain": [
       "     Score  Description\n",
       "0     7.48           15\n",
       "1     7.49           27\n",
       "2     7.50           29\n",
       "3     7.51           24\n",
       "4     7.52           24\n",
       "..     ...          ...\n",
       "141   9.11            3\n",
       "142   9.14            1\n",
       "143   9.16            2\n",
       "144   9.19            1\n",
       "145   9.25            1\n",
       "\n",
       "[146 rows x 2 columns]"
      ]
     },
     "execution_count": 34,
     "metadata": {},
     "output_type": "execute_result"
    }
   ],
   "source": [
    "ra_review = ranked_anime_review.groupby(['Score'],as_index=False).count()\n",
    "ra_review"
   ]
  },
  {
   "cell_type": "markdown",
   "metadata": {},
   "source": [
    "#### math calculation of positive, negative and natural range"
   ]
  },
  {
   "cell_type": "code",
   "execution_count": 35,
   "metadata": {},
   "outputs": [
    {
     "data": {
      "text/plain": [
       "177"
      ]
     },
     "execution_count": 35,
     "metadata": {},
     "output_type": "execute_result"
    }
   ],
   "source": [
    "range = 925 - 748\n",
    "range"
   ]
  },
  {
   "cell_type": "code",
   "execution_count": 36,
   "metadata": {},
   "outputs": [
    {
     "data": {
      "text/plain": [
       "59"
      ]
     },
     "execution_count": 36,
     "metadata": {},
     "output_type": "execute_result"
    }
   ],
   "source": [
    "round(range/3)"
   ]
  },
  {
   "cell_type": "markdown",
   "metadata": {},
   "source": [
    "#### Math calculation says use 0.59 for each situation.\n",
    "#### We check it as below analysis"
   ]
  },
  {
   "cell_type": "code",
   "execution_count": 37,
   "metadata": {},
   "outputs": [],
   "source": [
    "ra_review = ra_review.rename(columns={'Score': 'points', 'Description': 'count'})\n"
   ]
  },
  {
   "cell_type": "code",
   "execution_count": 38,
   "metadata": {},
   "outputs": [
    {
     "data": {
      "text/html": [
       "<div>\n",
       "<style scoped>\n",
       "    .dataframe tbody tr th:only-of-type {\n",
       "        vertical-align: middle;\n",
       "    }\n",
       "\n",
       "    .dataframe tbody tr th {\n",
       "        vertical-align: top;\n",
       "    }\n",
       "\n",
       "    .dataframe thead th {\n",
       "        text-align: right;\n",
       "    }\n",
       "</style>\n",
       "<table border=\"1\" class=\"dataframe\">\n",
       "  <thead>\n",
       "    <tr style=\"text-align: right;\">\n",
       "      <th></th>\n",
       "      <th>points</th>\n",
       "      <th>count</th>\n",
       "    </tr>\n",
       "  </thead>\n",
       "  <tbody>\n",
       "    <tr>\n",
       "      <th>0</th>\n",
       "      <td>7.48</td>\n",
       "      <td>15</td>\n",
       "    </tr>\n",
       "    <tr>\n",
       "      <th>1</th>\n",
       "      <td>7.49</td>\n",
       "      <td>27</td>\n",
       "    </tr>\n",
       "    <tr>\n",
       "      <th>2</th>\n",
       "      <td>7.50</td>\n",
       "      <td>29</td>\n",
       "    </tr>\n",
       "    <tr>\n",
       "      <th>3</th>\n",
       "      <td>7.51</td>\n",
       "      <td>24</td>\n",
       "    </tr>\n",
       "    <tr>\n",
       "      <th>4</th>\n",
       "      <td>7.52</td>\n",
       "      <td>24</td>\n",
       "    </tr>\n",
       "    <tr>\n",
       "      <th>...</th>\n",
       "      <td>...</td>\n",
       "      <td>...</td>\n",
       "    </tr>\n",
       "    <tr>\n",
       "      <th>141</th>\n",
       "      <td>9.11</td>\n",
       "      <td>3</td>\n",
       "    </tr>\n",
       "    <tr>\n",
       "      <th>142</th>\n",
       "      <td>9.14</td>\n",
       "      <td>1</td>\n",
       "    </tr>\n",
       "    <tr>\n",
       "      <th>143</th>\n",
       "      <td>9.16</td>\n",
       "      <td>2</td>\n",
       "    </tr>\n",
       "    <tr>\n",
       "      <th>144</th>\n",
       "      <td>9.19</td>\n",
       "      <td>1</td>\n",
       "    </tr>\n",
       "    <tr>\n",
       "      <th>145</th>\n",
       "      <td>9.25</td>\n",
       "      <td>1</td>\n",
       "    </tr>\n",
       "  </tbody>\n",
       "</table>\n",
       "<p>146 rows × 2 columns</p>\n",
       "</div>"
      ],
      "text/plain": [
       "     points  count\n",
       "0      7.48     15\n",
       "1      7.49     27\n",
       "2      7.50     29\n",
       "3      7.51     24\n",
       "4      7.52     24\n",
       "..      ...    ...\n",
       "141    9.11      3\n",
       "142    9.14      1\n",
       "143    9.16      2\n",
       "144    9.19      1\n",
       "145    9.25      1\n",
       "\n",
       "[146 rows x 2 columns]"
      ]
     },
     "execution_count": 38,
     "metadata": {},
     "output_type": "execute_result"
    }
   ],
   "source": [
    "ra_review"
   ]
  },
  {
   "cell_type": "code",
   "execution_count": 39,
   "metadata": {},
   "outputs": [
    {
     "data": {
      "text/plain": [
       "array([7.48, 7.49, 7.5 , 7.51, 7.52, 7.53, 7.54, 7.55, 7.56, 7.57, 7.58,\n",
       "       7.59, 7.6 , 7.61, 7.62, 7.63, 7.64, 7.65, 7.66, 7.67, 7.68, 7.69,\n",
       "       7.7 , 7.71, 7.72, 7.73, 7.74, 7.75, 7.76, 7.77, 7.78, 7.79, 7.8 ,\n",
       "       7.81, 7.82, 7.83, 7.84, 7.85, 7.86, 7.87, 7.88, 7.89, 7.9 , 7.91,\n",
       "       7.92, 7.93, 7.94, 7.95, 7.96, 7.97, 7.98, 7.99, 8.  , 8.01, 8.02,\n",
       "       8.03, 8.04, 8.05, 8.06, 8.07, 8.08, 8.09, 8.1 , 8.11, 8.12, 8.13,\n",
       "       8.14, 8.15, 8.16, 8.17, 8.18, 8.19, 8.2 , 8.21, 8.22, 8.23, 8.24,\n",
       "       8.26, 8.27, 8.28, 8.29, 8.3 , 8.31, 8.32, 8.33, 8.34, 8.35, 8.36,\n",
       "       8.37, 8.38, 8.39, 8.4 , 8.41, 8.42, 8.43, 8.44, 8.45, 8.46, 8.47,\n",
       "       8.48, 8.49, 8.5 , 8.51, 8.52, 8.53, 8.54, 8.55, 8.56, 8.57, 8.58,\n",
       "       8.59, 8.6 , 8.62, 8.63, 8.64, 8.65, 8.66, 8.67, 8.7 , 8.71, 8.72,\n",
       "       8.73, 8.74, 8.75, 8.77, 8.79, 8.8 , 8.81, 8.83, 8.86, 8.87, 8.88,\n",
       "       8.92, 8.95, 8.99, 9.01, 9.02, 9.03, 9.04, 9.07, 9.1 , 9.11, 9.14,\n",
       "       9.16, 9.19, 9.25])"
      ]
     },
     "execution_count": 39,
     "metadata": {},
     "output_type": "execute_result"
    }
   ],
   "source": [
    "X = ra_review['points'].values\n",
    "y = ra_review['count'].values\n",
    "X"
   ]
  },
  {
   "cell_type": "code",
   "execution_count": 40,
   "metadata": {},
   "outputs": [
    {
     "data": {
      "text/plain": [
       "array([[7.48],\n",
       "       [7.49],\n",
       "       [7.5 ],\n",
       "       [7.51],\n",
       "       [7.52],\n",
       "       [7.53],\n",
       "       [7.54],\n",
       "       [7.55],\n",
       "       [7.56],\n",
       "       [7.57],\n",
       "       [7.58],\n",
       "       [7.59],\n",
       "       [7.6 ],\n",
       "       [7.61],\n",
       "       [7.62],\n",
       "       [7.63],\n",
       "       [7.64],\n",
       "       [7.65],\n",
       "       [7.66],\n",
       "       [7.67],\n",
       "       [7.68],\n",
       "       [7.69],\n",
       "       [7.7 ],\n",
       "       [7.71],\n",
       "       [7.72],\n",
       "       [7.73],\n",
       "       [7.74],\n",
       "       [7.75],\n",
       "       [7.76],\n",
       "       [7.77],\n",
       "       [7.78],\n",
       "       [7.79],\n",
       "       [7.8 ],\n",
       "       [7.81],\n",
       "       [7.82],\n",
       "       [7.83],\n",
       "       [7.84],\n",
       "       [7.85],\n",
       "       [7.86],\n",
       "       [7.87],\n",
       "       [7.88],\n",
       "       [7.89],\n",
       "       [7.9 ],\n",
       "       [7.91],\n",
       "       [7.92],\n",
       "       [7.93],\n",
       "       [7.94],\n",
       "       [7.95],\n",
       "       [7.96],\n",
       "       [7.97],\n",
       "       [7.98],\n",
       "       [7.99],\n",
       "       [8.  ],\n",
       "       [8.01],\n",
       "       [8.02],\n",
       "       [8.03],\n",
       "       [8.04],\n",
       "       [8.05],\n",
       "       [8.06],\n",
       "       [8.07],\n",
       "       [8.08],\n",
       "       [8.09],\n",
       "       [8.1 ],\n",
       "       [8.11],\n",
       "       [8.12],\n",
       "       [8.13],\n",
       "       [8.14],\n",
       "       [8.15],\n",
       "       [8.16],\n",
       "       [8.17],\n",
       "       [8.18],\n",
       "       [8.19],\n",
       "       [8.2 ],\n",
       "       [8.21],\n",
       "       [8.22],\n",
       "       [8.23],\n",
       "       [8.24],\n",
       "       [8.26],\n",
       "       [8.27],\n",
       "       [8.28],\n",
       "       [8.29],\n",
       "       [8.3 ],\n",
       "       [8.31],\n",
       "       [8.32],\n",
       "       [8.33],\n",
       "       [8.34],\n",
       "       [8.35],\n",
       "       [8.36],\n",
       "       [8.37],\n",
       "       [8.38],\n",
       "       [8.39],\n",
       "       [8.4 ],\n",
       "       [8.41],\n",
       "       [8.42],\n",
       "       [8.43],\n",
       "       [8.44],\n",
       "       [8.45],\n",
       "       [8.46],\n",
       "       [8.47],\n",
       "       [8.48],\n",
       "       [8.49],\n",
       "       [8.5 ],\n",
       "       [8.51],\n",
       "       [8.52],\n",
       "       [8.53],\n",
       "       [8.54],\n",
       "       [8.55],\n",
       "       [8.56],\n",
       "       [8.57],\n",
       "       [8.58],\n",
       "       [8.59],\n",
       "       [8.6 ],\n",
       "       [8.62],\n",
       "       [8.63],\n",
       "       [8.64],\n",
       "       [8.65],\n",
       "       [8.66],\n",
       "       [8.67],\n",
       "       [8.7 ],\n",
       "       [8.71],\n",
       "       [8.72],\n",
       "       [8.73],\n",
       "       [8.74],\n",
       "       [8.75],\n",
       "       [8.77],\n",
       "       [8.79],\n",
       "       [8.8 ],\n",
       "       [8.81],\n",
       "       [8.83],\n",
       "       [8.86],\n",
       "       [8.87],\n",
       "       [8.88],\n",
       "       [8.92],\n",
       "       [8.95],\n",
       "       [8.99],\n",
       "       [9.01],\n",
       "       [9.02],\n",
       "       [9.03],\n",
       "       [9.04],\n",
       "       [9.07],\n",
       "       [9.1 ],\n",
       "       [9.11],\n",
       "       [9.14],\n",
       "       [9.16],\n",
       "       [9.19],\n",
       "       [9.25]])"
      ]
     },
     "execution_count": 40,
     "metadata": {},
     "output_type": "execute_result"
    }
   ],
   "source": [
    "X=X.reshape(-1,1)\n",
    "X"
   ]
  },
  {
   "cell_type": "code",
   "execution_count": 41,
   "metadata": {},
   "outputs": [],
   "source": [
    "import matplotlib.pyplot as plt\n",
    "%matplotlib inline\n",
    "from sklearn.linear_model import LinearRegression\n",
    "from sklearn.preprocessing import PolynomialFeatures\n",
    "from sklearn.model_selection import train_test_split"
   ]
  },
  {
   "cell_type": "code",
   "execution_count": 42,
   "metadata": {},
   "outputs": [
    {
     "name": "stdout",
     "output_type": "stream",
     "text": [
      "X_train shape (116, 1)\n",
      "y_train shape (116,)\n",
      "X_test shape (30, 1)\n",
      "y_test shape (30,)\n",
      "[ 1  5  9 10  6  4 25 21  2 10  9  1 15 19 27  6 15 15  1  3 17  1 11 29\n",
      " 10  8  4  1 20  1]\n"
     ]
    }
   ],
   "source": [
    "x_train, x_test, y_train, y_test = train_test_split(X,y,train_size=0.8,test_size=0.2,random_state=10)\n",
    "print(f\"X_train shape {x_train.shape}\")\n",
    "print(f\"y_train shape {y_train.shape}\")\n",
    "print(f\"X_test shape {x_test.shape}\")\n",
    "print(f\"y_test shape {y_test.shape}\")\n",
    "print(y_test)"
   ]
  },
  {
   "cell_type": "code",
   "execution_count": 43,
   "metadata": {},
   "outputs": [
    {
     "data": {
      "image/png": "[encoded data removed]",
      "text/plain": [
       "<Figure size 432x288 with 1 Axes>"
      ]
     },
     "metadata": {
      "needs_background": "light"
     },
     "output_type": "display_data"
    }
   ],
   "source": [
    "%matplotlib inline\n",
    "plt.scatter(x_train,y_train,color='blue')\n",
    "plt.xlabel('Scores of Animes' )\n",
    "plt.ylabel('Number of Scores')\n",
    "plt.title('Training data')\n",
    "plt.show()"
   ]
  },
  {
   "cell_type": "code",
   "execution_count": 44,
   "metadata": {},
   "outputs": [
    {
     "name": "stdout",
     "output_type": "stream",
     "text": [
      "Train accuracy 79.39 %\n",
      "Test accuracy 82.43 %\n"
     ]
    }
   ],
   "source": [
    "lm = LinearRegression()\n",
    "lm.fit(x_train,y_train)\n",
    "y_predict = lm.predict(x_test)\n",
    "print(f\"Train accuracy {round(lm.score(x_train,y_train)*100,2)} %\")\n",
    "print(f\"Test accuracy {round(lm.score(x_test,y_test)*100,2)} %\")"
   ]
  },
  {
   "cell_type": "code",
   "execution_count": 45,
   "metadata": {},
   "outputs": [
    {
     "data": {
      "text/plain": [
       "<function matplotlib.pyplot.plot(*args, scalex=True, scaley=True, data=None, **kwargs)>"
      ]
     },
     "execution_count": 45,
     "metadata": {},
     "output_type": "execute_result"
    },
    {
     "data": {
      "image/png": "[encoded data removed]",
      "text/plain": [
       "<Figure size 432x288 with 1 Axes>"
      ]
     },
     "metadata": {
      "needs_background": "light"
     },
     "output_type": "display_data"
    }
   ],
   "source": [
    "plt.scatter(x_train,y_train,color='red')\n",
    "plt.plot(x_test,y_predict)\n",
    "plt.xlabel(\"REVIEW POINTS\")\n",
    "plt.ylabel(\"NUMBER OF POINTS\")\n",
    "plt.title(\"SENTIMENTAL DECISION TABLE BY LINEAR REGRESSION\")\n",
    "plt.plot"
   ]
  },
  {
   "cell_type": "markdown",
   "metadata": {},
   "source": [
    "#### We check it with Polynominal Regression"
   ]
  },
  {
   "cell_type": "code",
   "execution_count": 46,
   "metadata": {},
   "outputs": [
    {
     "data": {
      "image/png": "[encoded data removed]",
      "text/plain": [
       "<Figure size 432x288 with 1 Axes>"
      ]
     },
     "metadata": {
      "needs_background": "light"
     },
     "output_type": "display_data"
    }
   ],
   "source": [
    "poly = PolynomialFeatures(degree = 4)\n",
    "X_poly = poly.fit_transform(x_train)\n",
    "poly.fit(X_poly,y_train)\n",
    "%matplotlib inline\n",
    "plt.scatter(x_train,y_train,color='orange')\n",
    "plt.plot(x_train, poly.fit_transform(x_train))\n",
    "plt.xlabel(\"REVIEW POINTS\")\n",
    "plt.ylabel(\"NUMBER OF POINTS\")\n",
    "plt.title(\"SENTIMENTAL DECISION TABLE BY POLYNOMINAL REGRESSION\")\n",
    "plt.show()"
   ]
  },
  {
   "cell_type": "code",
   "execution_count": 50,
   "metadata": {},
   "outputs": [],
   "source": [
    "def create_sentiment(int):\n",
    "    if int >=7.48 and int<8.00:\n",
    "        return 0\n",
    "    if int>=8.00 and int<8.75:\n",
    "        return 1\n",
    "    if int>=8.76 and int<9.26:\n",
    "        return 2"
   ]
  },
  {
   "cell_type": "markdown",
   "metadata": {},
   "source": [
    "### Above the decision of breakpoints are given "
   ]
  },
  {
   "cell_type": "code",
   "execution_count": 51,
   "metadata": {},
   "outputs": [],
   "source": [
    "ranked_anime_review['sentiment'] = ranked_anime_review['Score'].apply(create_sentiment)"
   ]
  },
  {
   "cell_type": "code",
   "execution_count": 52,
   "metadata": {},
   "outputs": [
    {
     "data": {
      "text/html": [
       "<div>\n",
       "<style scoped>\n",
       "    .dataframe tbody tr th:only-of-type {\n",
       "        vertical-align: middle;\n",
       "    }\n",
       "\n",
       "    .dataframe tbody tr th {\n",
       "        vertical-align: top;\n",
       "    }\n",
       "\n",
       "    .dataframe thead th {\n",
       "        text-align: right;\n",
       "    }\n",
       "</style>\n",
       "<table border=\"1\" class=\"dataframe\">\n",
       "  <thead>\n",
       "    <tr style=\"text-align: right;\">\n",
       "      <th></th>\n",
       "      <th>Description</th>\n",
       "      <th>Score</th>\n",
       "      <th>sentiment</th>\n",
       "    </tr>\n",
       "  </thead>\n",
       "  <tbody>\n",
       "    <tr>\n",
       "      <th>1562</th>\n",
       "      <td>It has been three months since the incident at...</td>\n",
       "      <td>7.48</td>\n",
       "      <td>0.0</td>\n",
       "    </tr>\n",
       "    <tr>\n",
       "      <th>1521</th>\n",
       "      <td>Jiang Hao Yi, a normal, high school student wh...</td>\n",
       "      <td>7.48</td>\n",
       "      <td>0.0</td>\n",
       "    </tr>\n",
       "    <tr>\n",
       "      <th>1548</th>\n",
       "      <td>In his past life, although too weak to protect...</td>\n",
       "      <td>7.48</td>\n",
       "      <td>0.0</td>\n",
       "    </tr>\n",
       "    <tr>\n",
       "      <th>1550</th>\n",
       "      <td>Beelzebub specials included in the BD/DVD rele...</td>\n",
       "      <td>7.48</td>\n",
       "      <td>0.0</td>\n",
       "    </tr>\n",
       "    <tr>\n",
       "      <th>1551</th>\n",
       "      <td>A new island resort has been built in Tokyo ba...</td>\n",
       "      <td>7.48</td>\n",
       "      <td>0.0</td>\n",
       "    </tr>\n",
       "    <tr>\n",
       "      <th>...</th>\n",
       "      <td>...</td>\n",
       "      <td>...</td>\n",
       "      <td>...</td>\n",
       "    </tr>\n",
       "    <tr>\n",
       "      <th>4</th>\n",
       "      <td>The self-proclaimed mad scientist Rintarou Oka...</td>\n",
       "      <td>9.14</td>\n",
       "      <td>2.0</td>\n",
       "    </tr>\n",
       "    <tr>\n",
       "      <th>3</th>\n",
       "      <td>The dark untold story of Steins;Gate that lead...</td>\n",
       "      <td>9.16</td>\n",
       "      <td>2.0</td>\n",
       "    </tr>\n",
       "    <tr>\n",
       "      <th>2</th>\n",
       "      <td>Gintoki, Shinpachi, and Kagura return as the f...</td>\n",
       "      <td>9.16</td>\n",
       "      <td>2.0</td>\n",
       "    </tr>\n",
       "    <tr>\n",
       "      <th>1</th>\n",
       "      <td>Mitsuha Miyamizu, a high school girl, yearns t...</td>\n",
       "      <td>9.19</td>\n",
       "      <td>2.0</td>\n",
       "    </tr>\n",
       "    <tr>\n",
       "      <th>0</th>\n",
       "      <td>\"In order for something to be obtained, someth...</td>\n",
       "      <td>9.25</td>\n",
       "      <td>2.0</td>\n",
       "    </tr>\n",
       "  </tbody>\n",
       "</table>\n",
       "<p>1563 rows × 3 columns</p>\n",
       "</div>"
      ],
      "text/plain": [
       "                                            Description  Score  sentiment\n",
       "1562  It has been three months since the incident at...   7.48        0.0\n",
       "1521  Jiang Hao Yi, a normal, high school student wh...   7.48        0.0\n",
       "1548  In his past life, although too weak to protect...   7.48        0.0\n",
       "1550  Beelzebub specials included in the BD/DVD rele...   7.48        0.0\n",
       "1551  A new island resort has been built in Tokyo ba...   7.48        0.0\n",
       "...                                                 ...    ...        ...\n",
       "4     The self-proclaimed mad scientist Rintarou Oka...   9.14        2.0\n",
       "3     The dark untold story of Steins;Gate that lead...   9.16        2.0\n",
       "2     Gintoki, Shinpachi, and Kagura return as the f...   9.16        2.0\n",
       "1     Mitsuha Miyamizu, a high school girl, yearns t...   9.19        2.0\n",
       "0     \"In order for something to be obtained, someth...   9.25        2.0\n",
       "\n",
       "[1563 rows x 3 columns]"
      ]
     },
     "execution_count": 52,
     "metadata": {},
     "output_type": "execute_result"
    }
   ],
   "source": [
    "ranked_anime_review"
   ]
  },
  {
   "cell_type": "code",
   "execution_count": null,
   "metadata": {},
   "outputs": [],
   "source": [
    "def clean_comas(str):\n",
    "    return str.replace(',', ';')"
   ]
  }
 ],
 "metadata": {
  "kernelspec": {
   "display_name": "Python 3",
   "language": "python",
   "name": "python3"
  },
  "language_info": {
   "codemirror_mode": {
    "name": "ipython",
    "version": 3
   },
   "file_extension": ".py",
   "mimetype": "text/x-python",
   "name": "python",
   "nbconvert_exporter": "python",
   "pygments_lexer": "ipython3",
   "version": "3.7.5"
  }
 },
 "nbformat": 4,
 "nbformat_minor": 4
}
